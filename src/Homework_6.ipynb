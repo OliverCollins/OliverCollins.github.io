{
 "cells": [
  {
   "cell_type": "markdown",
   "metadata": {},
   "source": [
    "Before you turn this problem in, make sure everything runs as expected. First, **restart the kernel** (in the menubar, select Kernel$\\rightarrow$Restart) and then **run all cells** (in the menubar, select Cell$\\rightarrow$Run All).\n",
    "\n",
    "Make sure you fill in any place that says `YOUR CODE HERE` or \"YOUR ANSWER HERE\", as well as your name and collaborators below:"
   ]
  },
  {
   "cell_type": "markdown",
   "metadata": {},
   "source": [
    "NAME = \"Oliver Collins\" <br>\n",
    "COLLABORATORS = \"Rahul Depa\""
   ]
  },
  {
   "cell_type": "markdown",
   "metadata": {},
   "source": [
    "---"
   ]
  },
  {
   "cell_type": "code",
   "execution_count": 1,
   "metadata": {},
   "outputs": [
    {
     "data": {
      "text/plain": [
       "defined trait Nat\n",
       "defined object Zero\n",
       "defined class Succ\n",
       "one: Succ = Succ(Zero)\n",
       "two: Succ = Succ(Succ(Zero))\n",
       "three: Succ = Succ(Succ(Succ(Zero)))\n",
       "four: Succ = Succ(Succ(Succ(Succ(Zero))))\n",
       "five: Succ = Succ(Succ(Succ(Succ(Succ(Zero)))))\n",
       "six: Succ = Succ(Succ(Succ(Succ(Succ(Succ(Zero))))))\n",
       "seven: Succ = Succ(Succ(Succ(Succ(Succ(Succ(Succ(Zero)))))))\n",
       "eight: Succ = Succ(Succ(Succ(Succ(Succ(Succ(Succ(Succ(Zero))))))))\n",
       "nine: Succ = Succ(Succ(Succ(Succ(Succ(Succ(Succ(Succ(Succ(Zero)))))))))\n",
       "ten: Succ = Succ(Succ(Succ(Succ(Succ(Succ(Succ(Succ(Succ(Succ(Zero))))))))))\n",
       "nat_plus: (x: Nat, y: Nat)Nat\n",
       "nat_to_int: (x: Nat)Int\n",
       "nat_to_str: (x: Nat)String\n",
       "print_nat: (x: Nat)Unit\n",
       "nat_mult: (x: Nat, y: Nat)Nat\n",
       "nat_minus: (x: Nat, y: Nat)Nat\n",
       "nat_pow: (x: Nat, y: Nat)Nat\n",
       "nat_lte: (x: Nat, y: Nat)Bool\n",
       "nat_eq..."
      ]
     },
     "execution_count": 1,
     "metadata": {},
     "output_type": "execute_result"
    }
   ],
   "source": [
    "// import $file.hw6stdlib\n",
    "// import hw6stdlib._\n",
    "\n",
    "\n",
    "// Nats\n",
    "sealed trait Nat\n",
    "case object Zero extends Nat\n",
    "case class Succ(pred : Nat) extends Nat\n",
    "\n",
    "val one = Succ(Zero)\n",
    "val two = Succ(one)\n",
    "val three = Succ(two)\n",
    "val four = Succ(three)\n",
    "val five = Succ(four)\n",
    "val six = Succ(five)\n",
    "val seven = Succ(six)\n",
    "val eight = Succ(seven)\n",
    "val nine = Succ(eight)\n",
    "val ten = Succ(nine)\n",
    "\n",
    "def nat_plus(x : Nat, y : Nat) : Nat = x match {\n",
    "    case Zero    => y\n",
    "    case Succ(x) => Succ(nat_plus(x, y))\n",
    "}\n",
    "\n",
    "def nat_to_int(x : Nat) : Int = x match {\n",
    "    case Zero => 0\n",
    "    case Succ( x ) => 1 + nat_to_int(x)\n",
    "}\n",
    "\n",
    "def nat_to_str(x : Nat) = nat_to_int(x).toString()\n",
    "\n",
    "def print_nat(x : Nat) = println(nat_to_str(x))\n",
    "\n",
    "def nat_mult(x : Nat, y : Nat) : Nat = x match {\n",
    "    case Zero    => Zero\n",
    "    case Succ(x) => nat_plus(nat_mult(x,y), y)\n",
    "}\n",
    "\n",
    "def nat_minus(x : Nat, y : Nat) : Nat = (x, y) match {\n",
    "    case (Zero, _)          => Zero\n",
    "    case (x, Zero)          => x\n",
    "    case (Succ(x), Succ(y)) => nat_minus(x, y)\n",
    "}\n",
    "\n",
    "def nat_pow(x : Nat, y : Nat) : Nat = x match {\n",
    "    case Zero       => one\n",
    "    case Succ(Zero) => y \n",
    "    case Succ(x)    => nat_mult(y, nat_pow(x, y))\n",
    "}\n",
    "\n",
    "def nat_lte(x : Nat, y : Nat) : Bool = (x, y) match {\n",
    "    case (Zero, y)          => True\n",
    "    case (x, Zero)          => False\n",
    "    case (Succ(x), Succ(y)) => nat_lte(x, y)\n",
    "}\n",
    "\n",
    "def nat_eq(x : Nat, y : Nat) : Bool = (x, y) match {\n",
    "    case (Zero, Zero)       => True\n",
    "    case (Succ(x), Succ(y)) => nat_eq(x, y)\n",
    "    case _                  => False\n",
    "}\n",
    "\n",
    "// Integers\n",
    "sealed trait Integer\n",
    "case class Positive(x : Nat) extends Integer\n",
    "case class Negative(x : Nat) extends Integer\n",
    "\n",
    "def int_to_str(x : Integer) : String = x match {\n",
    "    case Positive(x) => nat_to_str(x)\n",
    "    case Negative(x) => \"-\" + nat_to_str(x)\n",
    "}\n",
    "\n",
    "def print_integer(x : Integer) = println(int_to_str(x))\n",
    "\n",
    "def abs(x : Integer) : Nat = x match {\n",
    "    case Positive(x) => x\n",
    "    case Negative(x) => x\n",
    "}\n",
    "\n",
    "def negate(x : Integer) : Integer = x match {\n",
    "    case Positive(x) => Negative(x)\n",
    "    case Negative(x) => Positive(x)\n",
    "}\n",
    "\n",
    "def plus(n : Integer, m : Integer) : Integer = (n, m) match {\n",
    "    case (Positive(x), Positive(y)) => Positive(nat_plus(x, y))\n",
    "    case (Negative(x), Negative(y)) => Negative(nat_plus(x,y))\n",
    "    case (Negative(x), Positive(y)) => nat_lte(x, y) match {\n",
    "        case True  => Positive(nat_minus(y, x))\n",
    "        case False => Negative(nat_minus(x, y))\n",
    "    }\n",
    "    case (Positive(x), Negative(y)) => nat_lte(x, y) match {\n",
    "        case True  => Negative(nat_minus(y, x))\n",
    "        case False => Positive(nat_minus(x, y))\n",
    "    }    \n",
    "}\n",
    "\n",
    "def minus(x : Integer, y : Integer) : Integer = plus(x, negate(y))\n",
    "\n",
    "def mult(x : Integer, y : Integer) : Integer = (x,y) match {\n",
    "    case (Positive(x), Positive(y)) => Positive(nat_mult(x, y))   \n",
    "    case (Negative(x), Negative(y)) => Positive(nat_mult(x, y))\n",
    "    case (Negative(x), Positive(y)) => Negative(nat_mult(x, y))\n",
    "    case (Positive(x), Negative(y)) => Negative(nat_mult(x, y))\n",
    "}\n",
    "\n",
    "def pow(x : Integer, y : Nat) : Integer = y match {\n",
    "    case Zero => Positive(Succ(Zero))\n",
    "    case Succ(y) => mult(x, pow(x, y))\n",
    "}\n",
    "\n",
    "def int_eq(x : Integer, y : Integer) : Bool = (x, y) match {\n",
    "    case (Positive(x), Positive(y)) => nat_eq(x, y)\n",
    "    case (Negative(x), Negative(y)) => nat_eq(x, y)\n",
    "    case _                          => False\n",
    "}\n",
    "\n",
    "// Booleans\n",
    "sealed trait Bool\n",
    "case object True extends Bool\n",
    "case object False extends Bool\n",
    "\n",
    "def t = True\n",
    "def f = False\n",
    "\n",
    "def id(x : Bool) : Bool = x\n",
    "\n",
    "def not(x : Bool) : Bool = x match {\n",
    "    case True => False\n",
    "    case False => True\n",
    "}\n",
    "\n",
    "def and(x : Bool, y : Bool) : Bool = (x,y) match {\n",
    "    case (True, True) => True\n",
    "    case _ => False\n",
    "}\n",
    "\n",
    "def or(x : Bool, y : Bool) : Bool = (x, y) match {\n",
    "    case (False, False) => False\n",
    "    case _              => True\n",
    "}\n",
    "\n",
    "def xor(x : Bool, y : Bool) : Bool = (x, y) match{\n",
    "    case (True, False) => True\n",
    "    case (False, True) => True\n",
    "    case _ => False\n",
    "}\n",
    "\n",
    "def nand(x : Bool, y : Bool) : Bool = not(and(x,y))\n",
    "\n",
    "def bool_eq(x : Bool, y : Bool) : Bool = not(xor(x,y))\n",
    "\n",
    "// Lists\n",
    "sealed trait List[+A]\n",
    "case object Empty extends List[Nothing]\n",
    "case class Cons[A](x : A, xs : List[A]) extends List[A]\n",
    "\n",
    "def map[A, B](f : (A => B), xs : List[A]) : List[B] = xs match {\n",
    "    case Empty       => Empty\n",
    "    case Cons(x, xs) => Cons(f(x), map(f, xs))\n",
    "}\n",
    "\n",
    "def fold[A, B](f : ((A, B) => B), acc : B, xs : List[A]) : B = xs match {\n",
    "    case Empty       => acc\n",
    "    case Cons(x, xs) => fold(f, f(x, acc), xs)\n",
    "}\n",
    "\n",
    "def filter[A](p : (A => Bool), xs : List[A]) : List[A] = xs match {\n",
    "    case Empty       => Empty\n",
    "    case Cons(x, xs) => p(x) match {\n",
    "        case True  => Cons(x, filter(p, xs))\n",
    "        case False => filter(p, xs)\n",
    "    }\n",
    "}\n",
    "\n",
    "// Maybe\n",
    "sealed trait Maybe[+A]\n",
    "case object Nothing extends Maybe[Nothing]\n",
    "case class Just[A](fromJust : A) extends Maybe[A]\n",
    "\n",
    "def map_maybe[A, B](f : (A => B), m : Maybe[A]) : Maybe[B] = m match{\n",
    "    case Nothing => Nothing\n",
    "    case Just(x) => Just(f(x))\n",
    "}\n",
    "\n",
    "// Maps\n",
    "sealed trait Dictionary[+A, +B] \n",
    "case object EmptyDict extends Dictionary[Nothing, Nothing]\n",
    "case class Entry[A,B](key : A, value : B, xs : Dictionary[A, B]) extends Dictionary[A, B]\n",
    "\n",
    "def isIn[A,B](eq : ((A,A) => Bool), dict : Dictionary[A,B], k : A ) : Bool = dict match {\n",
    "    case EmptyDict        => False\n",
    "    case Entry(k1, v, xs) => eq(k,k1) match {\n",
    "        case True  => True\n",
    "        case False => isIn(eq, dict, k)\n",
    "    }\n",
    "}\n",
    "\n",
    "def lookup[A,B](eq : (A,A) => Bool, dict : Dictionary[A,B], k : A) : Maybe[B] = dict match {\n",
    "    case EmptyDict        => Nothing\n",
    "    case Entry(k1, v, xs) => eq(k,k1) match {\n",
    "        case True  => Just(v)\n",
    "        case False => lookup(eq, dict, k)\n",
    "    }\n",
    "}\n",
    "\n",
    "// Strings\n",
    "def string_eq(s1 : String, s2 : String) : Bool = if (s1 == s2) True else False\n",
    "\n",
    "// Products\n",
    "sealed trait Pair[+A, +B]\n",
    "case class MkPair[A, B](fst : A, snd : B) extends Pair[A, B]\n",
    "\n",
    "// Sums\n",
    "sealed trait Either[+A, +B]\n",
    "case class Left[A, B](left : A) extends Either[A, B]\n",
    "case class Right[A, B](right : B) extends Either[A, B]"
   ]
  },
  {
   "cell_type": "markdown",
   "metadata": {},
   "source": [
    "# Homework 6\n",
    "\n",
    "In this assignment we will write the first full interpreter for Lettuce. Remember that lettuce is a functional language with let bindings. It is very similiar to a language called ML. Here we want to implement the interpreter for the language from the ground up. We will use most of the existing standard library we have developed while we write this, especially the equality functions and Dictionary data type from the last homework.\n",
    "\n",
    "## Part 1 - The Values\n",
    "\n",
    "Recall that we define interpreters as functions that take in expressions in the form of abstract syntax and give a value as output. In symbols:\n",
    "\n",
    "$$\n",
    "eval : Expr \\rightarrow Value\n",
    "$$\n",
    "\n",
    "It follows that we will need to create a datatype to represent the values that may be computed by lettuce. Below is the grammar that defines lettuce values. Implement this as a `sealed trait` in Scala below:\n",
    "\n",
    "$$\n",
    "\\begin{align}\n",
    "\\textbf{Value} ::=&\\ NumVal\\ \\mathbb{Z}\\\\\n",
    "\\mid&\\ BinVal\\ \\mathbb{B}\\\\\n",
    "\\mid&\\ Error\n",
    "\\end{align}\n",
    "$$"
   ]
  },
  {
   "cell_type": "code",
   "execution_count": 2,
   "metadata": {
    "deletable": false,
    "nbgrader": {
     "checksum": "4ef6379fccef6ad4d8f119ccc62a8eb9",
     "grade": false,
     "grade_id": "values-adt",
     "locked": false,
     "schema_version": 1,
     "solution": true
    }
   },
   "outputs": [
    {
     "data": {
      "text/plain": [
       "defined trait Value\n",
       "defined object Error\n",
       "defined class NumVal\n",
       "defined class BinVal\n",
       "warning: previously defined object Value is not a companion to trait Value.\n",
       "Companions must be defined together; you may wish to use :paste mode for this.\n"
      ]
     },
     "execution_count": 2,
     "metadata": {},
     "output_type": "execute_result"
    }
   ],
   "source": [
    "sealed trait Value\n",
    "\n",
    "case object Error extends Value\n",
    "case class NumVal(x: Integer) extends Value\n",
    "case class BinVal(b: Bool) extends Value"
   ]
  },
  {
   "cell_type": "markdown",
   "metadata": {},
   "source": [
    "If your definition was correct then the values in the cell below should compile."
   ]
  },
  {
   "cell_type": "code",
   "execution_count": 3,
   "metadata": {
    "deletable": false,
    "editable": false,
    "nbgrader": {
     "checksum": "9fcd0f98e42603769a70b21703937fa4",
     "grade": true,
     "grade_id": "values-adt-test",
     "locked": true,
     "points": 5,
     "schema_version": 1,
     "solution": false
    }
   },
   "outputs": [
    {
     "data": {
      "text/plain": [
       "Error"
      ]
     },
     "execution_count": 3,
     "metadata": {},
     "output_type": "execute_result"
    }
   ],
   "source": [
    "val v1 = NumVal(Positive(Succ(Succ(Zero))))\n",
    "val v2 = BinVal(False)\n",
    "val v3 = Error"
   ]
  },
  {
   "cell_type": "markdown",
   "metadata": {},
   "source": [
    "## Part 2 - The Expressions\n",
    "\n",
    "There are many possible expressions in the Lettuce language. We also use an abstract syntax to represent this. Here is the grammar to remind you of all the syntactic elements in Lettuce:\n",
    "\n",
    "$$\\begin{array}{rcll}\n",
    "\\mathbf{Expr} & ::= & Const(\\mathbb{Z}) \\\\\n",
    " & | & Bin(\\mathbb{B}) \\\\\n",
    " & | & Ident(\\mathbf{String}) \\\\\n",
    " & | & Plus(\\mathbf{Expr}, \\mathbf{Expr}) \\\\\n",
    " & | & Minus(\\mathbf{Expr}, \\mathbf{Expr}) \\\\\n",
    " & | & Mult (\\mathbf{Expr}, \\mathbf{Expr}) \\\\\n",
    " & | & Pow (\\mathbf{Expr}, \\mathbf{Expr}) \\\\\n",
    " & | & Neg (\\mathbf{Expr}) \\\\\n",
    " & | & Eq (\\mathbf{Expr}, \\mathbf{Expr}) \\\\\n",
    " & | & And ( \\mathbf{Expr}, \\mathbf{Expr} ) \\\\\n",
    " & | & Or ( \\mathbf{Expr}, \\mathbf{Expr} ) \\\\\n",
    " & | & IfThenElse(\\mathbf{Expr}, \\mathbf{Expr}, \\mathbf{Expr}) \\\\\n",
    " & | & Let( \\mathbf{String}, \\mathbf{Expr}, \\mathbf{Expr}) \\\\\n",
    "\\end{array}$$\n",
    "\n",
    "Now define a `sealed trait` for expressions in Lettuce:"
   ]
  },
  {
   "cell_type": "code",
   "execution_count": 4,
   "metadata": {
    "deletable": false,
    "nbgrader": {
     "checksum": "7198ab983ef02766357235b35cfeb144",
     "grade": false,
     "grade_id": "expr",
     "locked": false,
     "schema_version": 1,
     "solution": true
    }
   },
   "outputs": [
    {
     "data": {
      "text/plain": [
       "defined trait Expr\n",
       "defined class Const\n",
       "defined class Bin\n",
       "defined class Ident\n",
       "defined class Plus\n",
       "defined class Minus\n",
       "defined class Mult\n",
       "defined class Pow\n",
       "defined class Neg\n",
       "defined class Eq\n",
       "defined class And\n",
       "defined class Or\n",
       "defined class IfThenElse\n",
       "defined class Let\n"
      ]
     },
     "execution_count": 4,
     "metadata": {},
     "output_type": "execute_result"
    }
   ],
   "source": [
    "sealed trait Expr\n",
    "\n",
    "case class Const(x: Integer) extends Expr\n",
    "case class Bin(b: Bool) extends Expr\n",
    "case class Ident(s: String) extends Expr\n",
    "case class Plus(e1: Expr, e2: Expr) extends Expr\n",
    "case class Minus(e1: Expr, e2: Expr) extends Expr\n",
    "case class Mult(e1: Expr, e2: Expr) extends Expr\n",
    "case class Pow(e1: Expr, e2: Expr) extends Expr\n",
    "case class Neg(e: Expr) extends Expr\n",
    "case class Eq(e1: Expr, e2: Expr) extends Expr\n",
    "case class And(e1: Expr, e2: Expr) extends Expr\n",
    "case class Or(e1: Expr, e2: Expr) extends Expr\n",
    "case class IfThenElse(e1: Expr, e2: Expr, e3: Expr) extends Expr\n",
    "case class Let(s: String, e1: Expr, e2: Expr) extends Expr"
   ]
  },
  {
   "cell_type": "markdown",
   "metadata": {},
   "source": [
    "If you defined `Expr` properly then the following expressions should compile:"
   ]
  },
  {
   "cell_type": "code",
   "execution_count": 5,
   "metadata": {
    "deletable": false,
    "editable": false,
    "nbgrader": {
     "checksum": "dc2d7f017f3bbfd247659a4ccc08d18c",
     "grade": true,
     "grade_id": "expr-test",
     "locked": true,
     "points": 5,
     "schema_version": 1,
     "solution": false
    }
   },
   "outputs": [
    {
     "data": {
      "text/plain": [
       "Let(x,Plus(Const(Positive(Succ(Succ(Succ(Succ(Succ(Zero))))))),Const(Negative(Succ(Succ(Succ(Zero)))))),Mult(Ident(x),Ident(x)))"
      ]
     },
     "execution_count": 5,
     "metadata": {},
     "output_type": "execute_result"
    }
   ],
   "source": [
    "val ex1 = Const(Positive(five))\n",
    "val ex2 = Const(Negative(three))\n",
    "val ex3 = Bin(True)\n",
    "val ex4 = Ident(\"x\")\n",
    "val ex5 = Plus(ex1, ex2)\n",
    "val ex6 = Let(\"x\", ex5, Mult(ex4, ex4))"
   ]
  },
  {
   "cell_type": "markdown",
   "metadata": {},
   "source": [
    "## Part 3 - The Interpreter \n",
    "\n",
    "We now need to define the interpreter for this language. It is a function of the form:\n",
    "\n",
    "$$\n",
    "eval : Expr \\rightarrow Value\n",
    "$$\n",
    "\n",
    "Except, now that we have an execution environment($\\sigma$), we need some way to include $\\sigma$ in this function. This will be as an additional argument:\n",
    "\n",
    "$$\n",
    "eval : \\sigma \\rightarrow Expr \\rightarrow Value\n",
    "$$\n",
    "\n",
    "We will let $\\sigma$ be a `Dictionary` as we defined in last week's homework. To add something to a dicitonary use the `Entry` constructor to add on a new element. This should be very similiar to the way `Cons` works on lists.\n",
    "\n",
    "Below we have given you the skeleton of the function `eval`. Fill in each case for the interpreter so that it can interpret all possible Lettuce expressions. The inference rules we covered in the classroom should be very helpful with this.\n",
    "\n",
    "Hint: It may be helpful to define some helper functions for the inference rules that have similar forms. These are the rules like binary operations for arithmetic, bool, etc. Just like we lumped some of these rules together into a single rule, we can do the same for our interpreter in the form of auxillary functions. The bonus `eval_bin` function from Homework 4 may be a good place for inspiration.\n",
    "\n",
    "Hint: Be ready to write some nested case matches. Most of your cases should have two nestings. One for the Sytnax element and another for evaluating the expressions it may contain. This is not true for all expressions but most will follow this pattern to some extent. Note that `Ident` has a different kind of case match because it needs to interact with the environment(a Dictionary)"
   ]
  },
  {
   "cell_type": "code",
   "execution_count": 11,
   "metadata": {
    "deletable": false,
    "nbgrader": {
     "checksum": "8aa8b325f181b5961778806d8459c2e4",
     "grade": false,
     "grade_id": "interpreter",
     "locked": false,
     "schema_version": 1,
     "solution": true
    }
   },
   "outputs": [
    {
     "data": {
      "text/plain": [
       "eval: (env: Dictionary[String,Value], expr: Expr)Value\n"
      ]
     },
     "execution_count": 11,
     "metadata": {},
     "output_type": "execute_result"
    }
   ],
   "source": [
    "def eval(env: Dictionary[String, Value], expr: Expr): Value = expr match {\n",
    "//     case Const(x: Integer) => x match {\n",
    "//         case Positive(x) => NumVal(Positive(x))\n",
    "//         case Negative(x) => NumVal(Negative(x))\n",
    "//     }\n",
    "    x match {\n",
    "        \n",
    "    }\n",
    "    case Bin(b: Bool) => BinVal(b)\n",
    "    case Ident(s: String) => Error\n",
    "    case Plus(e1: Expr, e2: Expr) => Error\n",
    "    case Minus(e1: Expr, e2: Expr) => Error\n",
    "    case Mult(e1: Expr, e2: Expr) => Error\n",
    "    case Pow(e1: Expr, e2: Expr) => Error\n",
    "    case Neg(e: Expr) => Error\n",
    "    case Eq(e1: Expr, e2: Expr) => Error\n",
    "    case And(e1: Expr, e2: Expr) => Error\n",
    "    case Or(e1: Expr, e2: Expr) => Error\n",
    "    case IfThenElse(e1: Expr, e2: Expr, e3: Expr) => Error\n",
    "    case Let(s: String, e1: Expr, e2: Expr) => Error\n",
    "    case _ => Error\n",
    "}"
   ]
  },
  {
   "cell_type": "markdown",
   "metadata": {},
   "source": [
    "If this was defined correctly then the definitions above should evaluate:"
   ]
  },
  {
   "cell_type": "code",
   "execution_count": 10,
   "metadata": {
    "deletable": false,
    "editable": false,
    "nbgrader": {
     "checksum": "1aaf9c7ef5968fde1d272ab5a2b48ffd",
     "grade": true,
     "grade_id": "interpreter-tests",
     "locked": true,
     "points": 20,
     "schema_version": 1,
     "solution": false
    }
   },
   "outputs": [
    {
     "ename": "java.lang.AssertionError",
     "evalue": " assertion failed",
     "output_type": "error",
     "text": "java.lang.AssertionError: assertion failed\n  at scala.Predef$.assert(Predef.scala:156)\n  ... 44 elided\n",
     "traceback": [
      "\u001b[1;31mjava.lang.AssertionError: assertion failed\u001b[0;0m",
      "\u001b[1;31m  at scala.Predef$.assert(Predef.scala:156)\u001b[0;0m",
      "\u001b[1;31m  ... 44 elided\u001b[0;0m"
     ]
    }
   ],
   "source": [
    "//val ex1 = Const(Positive(five))\n",
    "//val ex2 = Const(Negative(three))\n",
    "//val ex3 = Bin(True)\n",
    "//val ex4 = Ident(\"x\")\n",
    "//val ex5 = Plus(ex1, ex2)\n",
    "//val ex6 = Let(\"x\", ex5, Mult(ex4, ex4))\n",
    "\n",
    "\n",
    "assert(eval(EmptyDict, ex3) equals BinVal(True))\n",
    "assert(eval(EmptyDict, ex4) equals Error)\n",
    "assert(eval(EmptyDict, ex5) equals NumVal(Positive(two)))\n",
    "assert(eval(EmptyDict, ex6) equals NumVal(Positive(four)))"
   ]
  },
  {
   "cell_type": "code",
   "execution_count": null,
   "metadata": {},
   "outputs": [],
   "source": []
  }
 ],
 "metadata": {
  "kernelspec": {
   "display_name": "Scala",
   "language": "scala",
   "name": "scala"
  },
  "language_info": {
   "codemirror_mode": "text/x-scala",
   "file_extension": ".scala",
   "mimetype": "",
   "name": "Scala",
   "nbconverter_exporter": "",
   "version": "2.11.12"
  }
 },
 "nbformat": 4,
 "nbformat_minor": 2
}
